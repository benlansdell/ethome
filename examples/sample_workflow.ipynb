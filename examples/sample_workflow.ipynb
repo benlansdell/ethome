{
 "cells": [
  {
   "attachments": {},
   "cell_type": "markdown",
   "metadata": {},
   "source": [
    "# Demo workflow\n",
    "\n",
    "Demonstrate simple building of behavior classifier and other analyses"
   ]
  },
  {
   "cell_type": "code",
   "execution_count": null,
   "metadata": {},
   "outputs": [],
   "source": [
    "import os\n",
    "#More reliable to not use GPU here. It's only doing inference with a small net, doesn't take long\n",
    "os.environ[\"CUDA_VISIBLE_DEVICES\"] = ''\n",
    "\n",
    "from ethome import create_dataset, interpolate_lowconf_points\n",
    "from ethome.io import get_sample_data_paths\n",
    "from ethome.unsupervised import compute_umap_embedding\n",
    "from ethome.plot import plot_embedding\n",
    "\n",
    "#Obviously, need to have xgboost installed for this to work...\n",
    "from xgboost import XGBClassifier\n",
    "from sklearn.model_selection import cross_val_predict, GroupKFold\n",
    "from sklearn.metrics import accuracy_score, f1_score, precision_score, recall_score"
   ]
  },
  {
   "attachments": {},
   "cell_type": "markdown",
   "metadata": {},
   "source": [
    "Gather some sample DLC and BORIS tracking and annotation files to play with"
   ]
  },
  {
   "cell_type": "code",
   "execution_count": null,
   "metadata": {},
   "outputs": [],
   "source": [
    "tracking_files, boris_files = get_sample_data_paths()"
   ]
  },
  {
   "attachments": {},
   "cell_type": "markdown",
   "metadata": {},
   "source": [
    "Setup some parameters"
   ]
  },
  {
   "cell_type": "code",
   "execution_count": null,
   "metadata": {},
   "outputs": [],
   "source": [
    "N_UMAP_ROWS = 10000\n",
    "\n",
    "frame_width = 20                 # (float) length of entire horizontal shot\n",
    "frame_width_units = 'in'         # (str) units frame_width is given in\n",
    "fps = 30                         # (int) frames per second\n",
    "resolution = (1200, 1600)        # (tuple) HxW in pixels\n",
    "\n",
    "animal_renamer = {'adult': 'resident', 'juvenile':'intruder'}"
   ]
  },
  {
   "cell_type": "code",
   "execution_count": null,
   "metadata": {},
   "outputs": [],
   "source": [
    "#%% Create dataset and add features\n",
    "dataset = create_dataset(tracking_files, \n",
    "                         animal_renamer=animal_renamer,\n",
    "                         labels = boris_files, \n",
    "                         frame_width = frame_width, \n",
    "                         fps = fps, \n",
    "                         frame_width_units = frame_width_units, \n",
    "                         resolution = resolution)"
   ]
  },
  {
   "attachments": {},
   "cell_type": "markdown",
   "metadata": {},
   "source": [
    "Smooth over low-confidence points"
   ]
  },
  {
   "cell_type": "code",
   "execution_count": null,
   "metadata": {},
   "outputs": [],
   "source": [
    "interpolate_lowconf_points(dataset)"
   ]
  },
  {
   "attachments": {},
   "cell_type": "markdown",
   "metadata": {},
   "source": [
    "Now create features on this dataset. Can use pre-built featuresets, or make your own. \n",
    "Here are two that work with a mouse resident-intruder setup:"
   ]
  },
  {
   "cell_type": "code",
   "execution_count": null,
   "metadata": {},
   "outputs": [],
   "source": [
    "dataset.features.add('cnn1d_prob')\n",
    "dataset.features.add('mars')"
   ]
  },
  {
   "attachments": {},
   "cell_type": "markdown",
   "metadata": {},
   "source": [
    "## Supervised learning\n",
    "\n",
    "Now we have features, we can train a behavior classifier"
   ]
  },
  {
   "cell_type": "code",
   "execution_count": null,
   "metadata": {},
   "outputs": [],
   "source": [
    "splitter = GroupKFold(n_splits = dataset.metadata.n_videos)\n",
    "\n",
    "print(\"Fitting ML model with (group) LOO CV\")\n",
    "predictions = cross_val_predict(XGBClassifier(), \n",
    "                                dataset.ml.features, \n",
    "                                dataset.ml.labels, \n",
    "                                groups = dataset.ml.group, \n",
    "                                cv = splitter,\n",
    "                                verbose = 1,\n",
    "                                n_jobs = 1)\n",
    "\n",
    "#Append these for later use\n",
    "dataset['prediction'] = predictions"
   ]
  },
  {
   "cell_type": "code",
   "execution_count": null,
   "metadata": {},
   "outputs": [],
   "source": [
    "acc = accuracy_score(dataset.ml.labels, predictions)\n",
    "f1 = f1_score(dataset.ml.labels, predictions)\n",
    "pr = precision_score(dataset.ml.labels, predictions)\n",
    "re = recall_score(dataset.ml.labels, predictions)\n",
    "print(\"Acc\", acc, \"F1\", f1, 'precision', pr, 'recall', re)"
   ]
  },
  {
   "attachments": {},
   "cell_type": "markdown",
   "metadata": {},
   "source": [
    "## Unsupervised learning"
   ]
  },
  {
   "cell_type": "code",
   "execution_count": null,
   "metadata": {},
   "outputs": [],
   "source": [
    "#%%################\n",
    "## Dim reduction ##\n",
    "###################\n",
    "\n",
    "embedding = compute_umap_embedding(dataset, dataset.features.active, N_rows = N_UMAP_ROWS)\n",
    "dataset[['embedding_0', 'embedding_1']] = embedding"
   ]
  },
  {
   "cell_type": "code",
   "execution_count": null,
   "metadata": {},
   "outputs": [],
   "source": [
    "fig, ax = plot_embedding(dataset, color_col = 'prediction') "
   ]
  },
  {
   "attachments": {},
   "cell_type": "markdown",
   "metadata": {},
   "source": [
    "## Post processing\n",
    "\n",
    "Now we have our model we can make a video of its predictions. Provide the column names whose state we're going to overlay on the video, along with the directory to output the videos.\n",
    "\n",
    "NOTE: need to have provided 'video' column in the metadata to make movies."
   ]
  },
  {
   "cell_type": "code",
   "execution_count": null,
   "metadata": {},
   "outputs": [],
   "source": [
    "dataset.io.save_movie(['label', 'prediction'], '.')"
   ]
  }
 ],
 "metadata": {
  "kernelspec": {
   "display_name": "ethome",
   "language": "python",
   "name": "python3"
  },
  "language_info": {
   "codemirror_mode": {
    "name": "ipython",
    "version": 3
   },
   "file_extension": ".py",
   "mimetype": "text/x-python",
   "name": "python",
   "nbconvert_exporter": "python",
   "pygments_lexer": "ipython3",
   "version": "3.8.15"
  },
  "orig_nbformat": 4
 },
 "nbformat": 4,
 "nbformat_minor": 2
}
